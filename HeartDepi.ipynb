{
 "cells": [
  {
   "cell_type": "code",
   "execution_count": 1,
   "id": "7c1fd8a1-04e3-4543-8102-19dd7d869a18",
   "metadata": {},
   "outputs": [
    {
     "ename": "FileNotFoundError",
     "evalue": "[Errno 2] No such file or directory: 'heart_disease_uci.csv'",
     "output_type": "error",
     "traceback": [
      "\u001b[1;31m---------------------------------------------------------------------------\u001b[0m",
      "\u001b[1;31mFileNotFoundError\u001b[0m                         Traceback (most recent call last)",
      "Cell \u001b[1;32mIn[1], line 11\u001b[0m\n\u001b[0;32m      8\u001b[0m \u001b[38;5;28;01mfrom\u001b[39;00m \u001b[38;5;21;01msqlalchemy\u001b[39;00m\u001b[38;5;21;01m.\u001b[39;00m\u001b[38;5;21;01mext\u001b[39;00m\u001b[38;5;21;01m.\u001b[39;00m\u001b[38;5;21;01mdeclarative\u001b[39;00m \u001b[38;5;28;01mimport\u001b[39;00m declarative_base\n\u001b[0;32m      9\u001b[0m \u001b[38;5;28;01mfrom\u001b[39;00m \u001b[38;5;21;01msqlalchemy\u001b[39;00m\u001b[38;5;21;01m.\u001b[39;00m\u001b[38;5;21;01morm\u001b[39;00m \u001b[38;5;28;01mimport\u001b[39;00m sessionmaker\n\u001b[1;32m---> 11\u001b[0m heart_data \u001b[38;5;241m=\u001b[39m pd\u001b[38;5;241m.\u001b[39mread_csv(\u001b[38;5;124m'\u001b[39m\u001b[38;5;124mheart_disease_uci.csv\u001b[39m\u001b[38;5;124m'\u001b[39m)\n\u001b[0;32m     12\u001b[0m engine \u001b[38;5;241m=\u001b[39m create_engine(\u001b[38;5;124m'\u001b[39m\u001b[38;5;124msqlite:///heart_disease.db\u001b[39m\u001b[38;5;124m'\u001b[39m)\n\u001b[0;32m     13\u001b[0m heart_data\u001b[38;5;241m.\u001b[39mto_sql(\u001b[38;5;124m'\u001b[39m\u001b[38;5;124mheart_disease\u001b[39m\u001b[38;5;124m'\u001b[39m, engine, if_exists\u001b[38;5;241m=\u001b[39m\u001b[38;5;124m'\u001b[39m\u001b[38;5;124mreplace\u001b[39m\u001b[38;5;124m'\u001b[39m, index\u001b[38;5;241m=\u001b[39m\u001b[38;5;28;01mFalse\u001b[39;00m)\n",
      "File \u001b[1;32mC:\\Anaconda\\Lib\\site-packages\\pandas\\io\\parsers\\readers.py:912\u001b[0m, in \u001b[0;36mread_csv\u001b[1;34m(filepath_or_buffer, sep, delimiter, header, names, index_col, usecols, dtype, engine, converters, true_values, false_values, skipinitialspace, skiprows, skipfooter, nrows, na_values, keep_default_na, na_filter, verbose, skip_blank_lines, parse_dates, infer_datetime_format, keep_date_col, date_parser, date_format, dayfirst, cache_dates, iterator, chunksize, compression, thousands, decimal, lineterminator, quotechar, quoting, doublequote, escapechar, comment, encoding, encoding_errors, dialect, on_bad_lines, delim_whitespace, low_memory, memory_map, float_precision, storage_options, dtype_backend)\u001b[0m\n\u001b[0;32m    899\u001b[0m kwds_defaults \u001b[38;5;241m=\u001b[39m _refine_defaults_read(\n\u001b[0;32m    900\u001b[0m     dialect,\n\u001b[0;32m    901\u001b[0m     delimiter,\n\u001b[1;32m   (...)\u001b[0m\n\u001b[0;32m    908\u001b[0m     dtype_backend\u001b[38;5;241m=\u001b[39mdtype_backend,\n\u001b[0;32m    909\u001b[0m )\n\u001b[0;32m    910\u001b[0m kwds\u001b[38;5;241m.\u001b[39mupdate(kwds_defaults)\n\u001b[1;32m--> 912\u001b[0m \u001b[38;5;28;01mreturn\u001b[39;00m _read(filepath_or_buffer, kwds)\n",
      "File \u001b[1;32mC:\\Anaconda\\Lib\\site-packages\\pandas\\io\\parsers\\readers.py:577\u001b[0m, in \u001b[0;36m_read\u001b[1;34m(filepath_or_buffer, kwds)\u001b[0m\n\u001b[0;32m    574\u001b[0m _validate_names(kwds\u001b[38;5;241m.\u001b[39mget(\u001b[38;5;124m\"\u001b[39m\u001b[38;5;124mnames\u001b[39m\u001b[38;5;124m\"\u001b[39m, \u001b[38;5;28;01mNone\u001b[39;00m))\n\u001b[0;32m    576\u001b[0m \u001b[38;5;66;03m# Create the parser.\u001b[39;00m\n\u001b[1;32m--> 577\u001b[0m parser \u001b[38;5;241m=\u001b[39m TextFileReader(filepath_or_buffer, \u001b[38;5;241m*\u001b[39m\u001b[38;5;241m*\u001b[39mkwds)\n\u001b[0;32m    579\u001b[0m \u001b[38;5;28;01mif\u001b[39;00m chunksize \u001b[38;5;129;01mor\u001b[39;00m iterator:\n\u001b[0;32m    580\u001b[0m     \u001b[38;5;28;01mreturn\u001b[39;00m parser\n",
      "File \u001b[1;32mC:\\Anaconda\\Lib\\site-packages\\pandas\\io\\parsers\\readers.py:1407\u001b[0m, in \u001b[0;36mTextFileReader.__init__\u001b[1;34m(self, f, engine, **kwds)\u001b[0m\n\u001b[0;32m   1404\u001b[0m     \u001b[38;5;28mself\u001b[39m\u001b[38;5;241m.\u001b[39moptions[\u001b[38;5;124m\"\u001b[39m\u001b[38;5;124mhas_index_names\u001b[39m\u001b[38;5;124m\"\u001b[39m] \u001b[38;5;241m=\u001b[39m kwds[\u001b[38;5;124m\"\u001b[39m\u001b[38;5;124mhas_index_names\u001b[39m\u001b[38;5;124m\"\u001b[39m]\n\u001b[0;32m   1406\u001b[0m \u001b[38;5;28mself\u001b[39m\u001b[38;5;241m.\u001b[39mhandles: IOHandles \u001b[38;5;241m|\u001b[39m \u001b[38;5;28;01mNone\u001b[39;00m \u001b[38;5;241m=\u001b[39m \u001b[38;5;28;01mNone\u001b[39;00m\n\u001b[1;32m-> 1407\u001b[0m \u001b[38;5;28mself\u001b[39m\u001b[38;5;241m.\u001b[39m_engine \u001b[38;5;241m=\u001b[39m \u001b[38;5;28mself\u001b[39m\u001b[38;5;241m.\u001b[39m_make_engine(f, \u001b[38;5;28mself\u001b[39m\u001b[38;5;241m.\u001b[39mengine)\n",
      "File \u001b[1;32mC:\\Anaconda\\Lib\\site-packages\\pandas\\io\\parsers\\readers.py:1661\u001b[0m, in \u001b[0;36mTextFileReader._make_engine\u001b[1;34m(self, f, engine)\u001b[0m\n\u001b[0;32m   1659\u001b[0m     \u001b[38;5;28;01mif\u001b[39;00m \u001b[38;5;124m\"\u001b[39m\u001b[38;5;124mb\u001b[39m\u001b[38;5;124m\"\u001b[39m \u001b[38;5;129;01mnot\u001b[39;00m \u001b[38;5;129;01min\u001b[39;00m mode:\n\u001b[0;32m   1660\u001b[0m         mode \u001b[38;5;241m+\u001b[39m\u001b[38;5;241m=\u001b[39m \u001b[38;5;124m\"\u001b[39m\u001b[38;5;124mb\u001b[39m\u001b[38;5;124m\"\u001b[39m\n\u001b[1;32m-> 1661\u001b[0m \u001b[38;5;28mself\u001b[39m\u001b[38;5;241m.\u001b[39mhandles \u001b[38;5;241m=\u001b[39m get_handle(\n\u001b[0;32m   1662\u001b[0m     f,\n\u001b[0;32m   1663\u001b[0m     mode,\n\u001b[0;32m   1664\u001b[0m     encoding\u001b[38;5;241m=\u001b[39m\u001b[38;5;28mself\u001b[39m\u001b[38;5;241m.\u001b[39moptions\u001b[38;5;241m.\u001b[39mget(\u001b[38;5;124m\"\u001b[39m\u001b[38;5;124mencoding\u001b[39m\u001b[38;5;124m\"\u001b[39m, \u001b[38;5;28;01mNone\u001b[39;00m),\n\u001b[0;32m   1665\u001b[0m     compression\u001b[38;5;241m=\u001b[39m\u001b[38;5;28mself\u001b[39m\u001b[38;5;241m.\u001b[39moptions\u001b[38;5;241m.\u001b[39mget(\u001b[38;5;124m\"\u001b[39m\u001b[38;5;124mcompression\u001b[39m\u001b[38;5;124m\"\u001b[39m, \u001b[38;5;28;01mNone\u001b[39;00m),\n\u001b[0;32m   1666\u001b[0m     memory_map\u001b[38;5;241m=\u001b[39m\u001b[38;5;28mself\u001b[39m\u001b[38;5;241m.\u001b[39moptions\u001b[38;5;241m.\u001b[39mget(\u001b[38;5;124m\"\u001b[39m\u001b[38;5;124mmemory_map\u001b[39m\u001b[38;5;124m\"\u001b[39m, \u001b[38;5;28;01mFalse\u001b[39;00m),\n\u001b[0;32m   1667\u001b[0m     is_text\u001b[38;5;241m=\u001b[39mis_text,\n\u001b[0;32m   1668\u001b[0m     errors\u001b[38;5;241m=\u001b[39m\u001b[38;5;28mself\u001b[39m\u001b[38;5;241m.\u001b[39moptions\u001b[38;5;241m.\u001b[39mget(\u001b[38;5;124m\"\u001b[39m\u001b[38;5;124mencoding_errors\u001b[39m\u001b[38;5;124m\"\u001b[39m, \u001b[38;5;124m\"\u001b[39m\u001b[38;5;124mstrict\u001b[39m\u001b[38;5;124m\"\u001b[39m),\n\u001b[0;32m   1669\u001b[0m     storage_options\u001b[38;5;241m=\u001b[39m\u001b[38;5;28mself\u001b[39m\u001b[38;5;241m.\u001b[39moptions\u001b[38;5;241m.\u001b[39mget(\u001b[38;5;124m\"\u001b[39m\u001b[38;5;124mstorage_options\u001b[39m\u001b[38;5;124m\"\u001b[39m, \u001b[38;5;28;01mNone\u001b[39;00m),\n\u001b[0;32m   1670\u001b[0m )\n\u001b[0;32m   1671\u001b[0m \u001b[38;5;28;01massert\u001b[39;00m \u001b[38;5;28mself\u001b[39m\u001b[38;5;241m.\u001b[39mhandles \u001b[38;5;129;01mis\u001b[39;00m \u001b[38;5;129;01mnot\u001b[39;00m \u001b[38;5;28;01mNone\u001b[39;00m\n\u001b[0;32m   1672\u001b[0m f \u001b[38;5;241m=\u001b[39m \u001b[38;5;28mself\u001b[39m\u001b[38;5;241m.\u001b[39mhandles\u001b[38;5;241m.\u001b[39mhandle\n",
      "File \u001b[1;32mC:\\Anaconda\\Lib\\site-packages\\pandas\\io\\common.py:859\u001b[0m, in \u001b[0;36mget_handle\u001b[1;34m(path_or_buf, mode, encoding, compression, memory_map, is_text, errors, storage_options)\u001b[0m\n\u001b[0;32m    854\u001b[0m \u001b[38;5;28;01melif\u001b[39;00m \u001b[38;5;28misinstance\u001b[39m(handle, \u001b[38;5;28mstr\u001b[39m):\n\u001b[0;32m    855\u001b[0m     \u001b[38;5;66;03m# Check whether the filename is to be opened in binary mode.\u001b[39;00m\n\u001b[0;32m    856\u001b[0m     \u001b[38;5;66;03m# Binary mode does not support 'encoding' and 'newline'.\u001b[39;00m\n\u001b[0;32m    857\u001b[0m     \u001b[38;5;28;01mif\u001b[39;00m ioargs\u001b[38;5;241m.\u001b[39mencoding \u001b[38;5;129;01mand\u001b[39;00m \u001b[38;5;124m\"\u001b[39m\u001b[38;5;124mb\u001b[39m\u001b[38;5;124m\"\u001b[39m \u001b[38;5;129;01mnot\u001b[39;00m \u001b[38;5;129;01min\u001b[39;00m ioargs\u001b[38;5;241m.\u001b[39mmode:\n\u001b[0;32m    858\u001b[0m         \u001b[38;5;66;03m# Encoding\u001b[39;00m\n\u001b[1;32m--> 859\u001b[0m         handle \u001b[38;5;241m=\u001b[39m \u001b[38;5;28mopen\u001b[39m(\n\u001b[0;32m    860\u001b[0m             handle,\n\u001b[0;32m    861\u001b[0m             ioargs\u001b[38;5;241m.\u001b[39mmode,\n\u001b[0;32m    862\u001b[0m             encoding\u001b[38;5;241m=\u001b[39mioargs\u001b[38;5;241m.\u001b[39mencoding,\n\u001b[0;32m    863\u001b[0m             errors\u001b[38;5;241m=\u001b[39merrors,\n\u001b[0;32m    864\u001b[0m             newline\u001b[38;5;241m=\u001b[39m\u001b[38;5;124m\"\u001b[39m\u001b[38;5;124m\"\u001b[39m,\n\u001b[0;32m    865\u001b[0m         )\n\u001b[0;32m    866\u001b[0m     \u001b[38;5;28;01melse\u001b[39;00m:\n\u001b[0;32m    867\u001b[0m         \u001b[38;5;66;03m# Binary mode\u001b[39;00m\n\u001b[0;32m    868\u001b[0m         handle \u001b[38;5;241m=\u001b[39m \u001b[38;5;28mopen\u001b[39m(handle, ioargs\u001b[38;5;241m.\u001b[39mmode)\n",
      "\u001b[1;31mFileNotFoundError\u001b[0m: [Errno 2] No such file or directory: 'heart_disease_uci.csv'"
     ]
    }
   ],
   "source": [
    "import pandas as pd\n",
    "import numpy as np\n",
    "import seaborn as sns\n",
    "import matplotlib.pyplot as plt \n",
    "import plotly.express as px\n",
    "\n",
    "from sqlalchemy import create_engine, Column, Integer, Float, String\n",
    "from sqlalchemy.ext.declarative import declarative_base\n",
    "from sqlalchemy.orm import sessionmaker\n",
    "\n",
    "heart_data = pd.read_csv('heart_disease_uci.csv')\n",
    "engine = create_engine('sqlite:///heart_disease.db')\n",
    "heart_data.to_sql('heart_disease', engine, if_exists='replace', index=False)\n",
    "query = \"SELECT * FROM heart_disease\"\n",
    "df = pd.read_sql(query, engine)\n",
    "print(f\"Number of rows: {len(df)}\")\n",
    "print(f\"Number of columns: {len(df.columns)}\")\n",
    "print(f\"Columns: {df.columns.tolist()}\")"
   ]
  },
  {
   "cell_type": "code",
   "execution_count": null,
   "id": "c5956bb6-7230-469a-9ba7-f34435f2dda3",
   "metadata": {
    "tags": []
   },
   "outputs": [],
   "source": [
    "df.describe(include='all')"
   ]
  },
  {
   "cell_type": "code",
   "execution_count": null,
   "id": "32e0568e-3467-4f29-9abf-bf7e218ffb26",
   "metadata": {
    "tags": []
   },
   "outputs": [],
   "source": [
    "df.head(5)"
   ]
  },
  {
   "cell_type": "code",
   "execution_count": null,
   "id": "f9dacbb0-a1f2-4982-8832-bb19c134ba9b",
   "metadata": {
    "tags": []
   },
   "outputs": [],
   "source": [
    "df.info()"
   ]
  },
  {
   "cell_type": "markdown",
   "id": "2c6ff649-f19d-4530-bcee-1486d9dc3ace",
   "metadata": {},
   "source": [
    "## Handling Missing values"
   ]
  },
  {
   "cell_type": "code",
   "execution_count": null,
   "id": "4a2c0042-34db-4a00-8abe-6305fcd4b616",
   "metadata": {
    "tags": []
   },
   "outputs": [],
   "source": [
    "df.isnull().sum()"
   ]
  },
  {
   "cell_type": "code",
   "execution_count": null,
   "id": "abc3aabb-99aa-43ba-b222-b660708a97d5",
   "metadata": {
    "tags": []
   },
   "outputs": [],
   "source": [
    "numeric_cols = df.select_dtypes(include=[np.number]).columns\n",
    "categorical_cols = df.select_dtypes(exclude=[np.number]).columns\n",
    "numeric_cols"
   ]
  },
  {
   "cell_type": "code",
   "execution_count": null,
   "id": "55eca676-9dea-4529-aa69-8568e6fa4410",
   "metadata": {
    "tags": []
   },
   "outputs": [],
   "source": [
    "categorical_cols"
   ]
  },
  {
   "cell_type": "code",
   "execution_count": null,
   "id": "7d86b6ed-3c62-4db0-ba40-9b392927cddb",
   "metadata": {
    "tags": []
   },
   "outputs": [],
   "source": [
    "df[numeric_cols] = df[numeric_cols].fillna(df[numeric_cols].mean())"
   ]
  },
  {
   "cell_type": "code",
   "execution_count": null,
   "id": "8b1779d6-cd14-42c8-921d-317185d2666c",
   "metadata": {
    "tags": []
   },
   "outputs": [],
   "source": [
    "df[numeric_cols].isnull().sum()"
   ]
  },
  {
   "cell_type": "code",
   "execution_count": null,
   "id": "ef2c4074-d302-4933-a5fb-1a218258920b",
   "metadata": {
    "tags": []
   },
   "outputs": [],
   "source": [
    "for col in categorical_cols:\n",
    "        df[col] = df[col].fillna(df[col].mode()[0])"
   ]
  },
  {
   "cell_type": "code",
   "execution_count": null,
   "id": "a3a55e39-d65f-4fba-90c2-494e52306769",
   "metadata": {
    "tags": []
   },
   "outputs": [],
   "source": [
    "df[categorical_cols].isnull().sum()"
   ]
  },
  {
   "cell_type": "code",
   "execution_count": null,
   "id": "de37035d-9f42-4957-a48b-b99e5e02d467",
   "metadata": {
    "tags": []
   },
   "outputs": [],
   "source": [
    "df.duplicated().sum()"
   ]
  },
  {
   "cell_type": "markdown",
   "id": "32f6ae80-8160-40e7-bf0e-803577905bc0",
   "metadata": {},
   "source": [
    "## Handling outliers"
   ]
  },
  {
   "cell_type": "code",
   "execution_count": null,
   "id": "8b34dba0-ddb7-4c7a-a01b-862d856042b0",
   "metadata": {
    "tags": []
   },
   "outputs": [],
   "source": [
    "for col in numeric_cols:\n",
    "    fig = px.box(df, y=col, title=f'Box Plot of {col}')\n",
    "    fig.show()"
   ]
  },
  {
   "cell_type": "code",
   "execution_count": null,
   "id": "78612897-1964-4aaa-bdd0-1ebb48722b2c",
   "metadata": {
    "tags": []
   },
   "outputs": [],
   "source": [
    "df= df[((df['trestbps'] >= 92) & (df['trestbps'] <= 170))]"
   ]
  },
  {
   "cell_type": "code",
   "execution_count": null,
   "id": "4c1be7c9-3fa3-43ce-85e3-0c6025745813",
   "metadata": {
    "tags": []
   },
   "outputs": [],
   "source": [
    "fig = px.box(df, y='trestbps', title='Box Plot of trestbps')\n",
    "fig.show()"
   ]
  },
  {
   "cell_type": "code",
   "execution_count": null,
   "id": "81376f43-1f17-42a7-b3e5-75d8b5c4d6cb",
   "metadata": {
    "tags": []
   },
   "outputs": [],
   "source": [
    "df= df[((df['chol'] >= 117) & (df['chol'] <= 369))]"
   ]
  },
  {
   "cell_type": "code",
   "execution_count": null,
   "id": "a7831c02-29be-4686-ba96-82fee652b0d9",
   "metadata": {
    "tags": []
   },
   "outputs": [],
   "source": [
    "fig = px.box(df, y='chol', title='Box Plot of chol')\n",
    "fig.show()"
   ]
  },
  {
   "cell_type": "code",
   "execution_count": null,
   "id": "2e9b7e7b-3ec6-44ff-bdd0-936a5029d590",
   "metadata": {
    "tags": []
   },
   "outputs": [],
   "source": [
    "df= df[((df['thalch'] >= 80) )]"
   ]
  },
  {
   "cell_type": "code",
   "execution_count": null,
   "id": "95feb402-b4d3-4473-81aa-b6a36d3e70f8",
   "metadata": {
    "tags": []
   },
   "outputs": [],
   "source": [
    "fig = px.box(df, y='thalch', title='Box Plot of thalch')\n",
    "fig.show()"
   ]
  },
  {
   "cell_type": "code",
   "execution_count": null,
   "id": "fc08cfb8-be66-4bb3-ad80-8142b4b50270",
   "metadata": {
    "tags": []
   },
   "outputs": [],
   "source": [
    "df= df[((df['oldpeak'] >= -2) & (df['oldpeak'] <= 3.7))]"
   ]
  },
  {
   "cell_type": "code",
   "execution_count": null,
   "id": "b8422092-6fe6-475a-a214-4a40d2b45051",
   "metadata": {
    "tags": []
   },
   "outputs": [],
   "source": [
    "fig = px.box(df, y='oldpeak', title='oldpeak')\n",
    "fig.show()"
   ]
  },
  {
   "cell_type": "code",
   "execution_count": null,
   "id": "5003a2dd-d824-4d2a-8a7f-88d858930254",
   "metadata": {
    "tags": []
   },
   "outputs": [],
   "source": [
    "df.describe()"
   ]
  },
  {
   "cell_type": "code",
   "execution_count": null,
   "id": "2a5370c0-67d2-4f1c-9ed7-ab2ccd230629",
   "metadata": {
    "tags": []
   },
   "outputs": [],
   "source": [
    "from sklearn.preprocessing import StandardScaler\n",
    "scaler = StandardScaler()\n",
    "scaled_data = scaler.fit_transform(df[numeric_cols])  # numeric_cols: list of numerical column names\n",
    "df_scaled = pd.DataFrame(scaled_data, columns=numeric_cols)"
   ]
  },
  {
   "cell_type": "code",
   "execution_count": null,
   "id": "0799ddd3-2902-45d5-bac6-0a7cbba3c892",
   "metadata": {},
   "outputs": [],
   "source": [
    "df.duplicated().sum()"
   ]
  },
  {
   "cell_type": "markdown",
   "id": "ba21632f-5af6-4e60-8cd9-bf8c1bea6450",
   "metadata": {},
   "source": [
    "## analyze schema "
   ]
  },
  {
   "cell_type": "code",
   "execution_count": null,
   "id": "b9e6e9be-5f20-4a38-a307-f7168869f1e1",
   "metadata": {
    "tags": []
   },
   "outputs": [],
   "source": [
    "print(df.info())"
   ]
  },
  {
   "cell_type": "code",
   "execution_count": null,
   "id": "8385e548-7ab9-4cc3-9b7a-713b10f9d922",
   "metadata": {
    "tags": []
   },
   "outputs": [],
   "source": [
    "df.describe()"
   ]
  },
  {
   "cell_type": "code",
   "execution_count": null,
   "id": "5d56ef8a-1c1f-450d-9ba8-b2c35385e83b",
   "metadata": {
    "tags": []
   },
   "outputs": [],
   "source": [
    "df[numeric_cols].hist(figsize=(12, 10))\n",
    "plt.tight_layout()\n",
    "plt.show()"
   ]
  },
  {
   "cell_type": "code",
   "execution_count": null,
   "id": "6ce5ed0f-f609-4ef2-a032-2b1c59df3366",
   "metadata": {
    "tags": []
   },
   "outputs": [],
   "source": [
    "for col in numeric_cols:\n",
    "    if col in df.columns:  \n",
    "        plt.figure(figsize=(6, 4))\n",
    "        sns.histplot(df[col], kde=True, bins=20, color='skyblue')\n",
    "        plt.title(f'Distribution of {col}')\n",
    "        plt.xlabel(col)\n",
    "        plt.ylabel('Frequency')\n",
    "        plt.tight_layout()\n",
    "        plt.show()"
   ]
  },
  {
   "cell_type": "code",
   "execution_count": null,
   "id": "3cc78f2b-06a8-4717-8237-b0027cd1d17e",
   "metadata": {
    "tags": []
   },
   "outputs": [],
   "source": [
    "categorical_cols = ['sex', 'cp', 'fbs', 'restecg', 'exang', 'slope', 'ca', 'thal']\n",
    "for col in categorical_cols:\n",
    "    plt.figure(figsize=(5, 4))\n",
    "    sns.countplot(x=df[col], palette='pastel')\n",
    "    plt.title(f'Count of Categories in {col}')\n",
    "    plt.xlabel(col)\n",
    "    plt.ylabel('Count')\n",
    "    plt.tight_layout()\n",
    "    plt.show()"
   ]
  },
  {
   "cell_type": "code",
   "execution_count": null,
   "id": "3bf9c2ce-6d03-49e3-969f-1042ee6887ef",
   "metadata": {
    "tags": []
   },
   "outputs": [],
   "source": [
    "grouped = df.groupby('num')[df.select_dtypes(include=['int64', 'float64']).columns].mean().T\n",
    "grouped.plot(kind='bar', figsize=(10, 6), colormap='viridis')\n",
    "plt.title('Mean Values of Features by Heart Disease Presence (num)')\n",
    "plt.ylabel('Mean Value')\n",
    "plt.xticks(rotation=45)\n",
    "plt.tight_layout()\n",
    "plt.show()"
   ]
  },
  {
   "cell_type": "code",
   "execution_count": null,
   "id": "69c50c42-4576-43e5-abdf-93602803cf7e",
   "metadata": {
    "tags": []
   },
   "outputs": [],
   "source": [
    "df['num'] = df['num'].apply(lambda x: 1 if x > 0 else 0)"
   ]
  },
  {
   "cell_type": "markdown",
   "id": "cb514ff8-c593-4972-9702-0b50df9d75b3",
   "metadata": {},
   "source": [
    "## 2. QA & visualizations "
   ]
  },
  {
   "cell_type": "markdown",
   "id": "8c0ee2c5-ea63-4332-8e0c-d9890fb58c54",
   "metadata": {},
   "source": [
    "### Question 1: What is the distribution of heart disease cases in the dataset?"
   ]
  },
  {
   "cell_type": "code",
   "execution_count": null,
   "id": "6e764c72-f51c-4b1e-bfba-180a5cdd3a1a",
   "metadata": {
    "tags": []
   },
   "outputs": [],
   "source": [
    "plt.figure(figsize=(10, 6))\n",
    "sns.set_style(\"whitegrid\")\n",
    "\n",
    "# Create pie chart of heart disease distribution\n",
    "labels = ['No Heart Disease', 'Heart Disease']\n",
    "sizes = df['num'].value_counts()\n",
    "colors = ['#66b3ff', '#ff9999']\n",
    "explode = (0, 0.1)  # explode the 2nd slice (Heart Disease)\n",
    "\n",
    "plt.pie(sizes, explode=explode, labels=labels, colors=colors, autopct='%1.1f%%',\n",
    "        shadow=True, startangle=90)\n",
    "plt.axis('equal')  # Equal aspect ratio ensures that pie is drawn as a circle\n",
    "plt.title('Distribution of Heart Disease Cases', fontsize=16)\n",
    "plt.tight_layout()\n",
    "plt.savefig('heart_disease_distribution.png')\n",
    "plt.show()"
   ]
  },
  {
   "cell_type": "markdown",
   "id": "7cd527f3-0b11-487d-a7a3-6a6e29834ccf",
   "metadata": {},
   "source": [
    "### Question 2: How does heart disease prevalence differ between males and females?"
   ]
  },
  {
   "cell_type": "code",
   "execution_count": null,
   "id": "050470e0-e0ab-41d4-868c-339dcf43a351",
   "metadata": {
    "tags": []
   },
   "outputs": [],
   "source": [
    "plt.figure(figsize=(10, 6))\n",
    "\n",
    "# Create a count plot showing gender distribution by heart disease status\n",
    "sns.countplot(x='sex', hue='num', data=df , palette='pastel')\n",
    "\n",
    "# Add labels and title\n",
    "plt.title('Heart Disease Cases by Gender', fontsize=16)\n",
    "plt.xlabel('Gender (0 = Female, 1 = Male)', fontsize=14)\n",
    "plt.ylabel('Count', fontsize=14)\n",
    "plt.legend(labels=['No Heart Disease', 'Heart Disease'], title='Diagnosis')\n",
    "\n",
    "# Add count labels on top of each bar\n",
    "for p in plt.gca().patches:\n",
    "    plt.gca().annotate(f'{p.get_height()}', \n",
    "                      (p.get_x() + p.get_width() / 2., p.get_height()),\n",
    "                      ha = 'center', va = 'bottom', fontsize=12)\n",
    "\n",
    "plt.tight_layout()\n",
    "plt.savefig('gender_heart_disease.png')\n",
    "plt.show()"
   ]
  },
  {
   "cell_type": "markdown",
   "id": "488af9ff-e0ee-4970-8c45-0644334915a0",
   "metadata": {},
   "source": [
    "### Question 3: How does age relate to heart disease?"
   ]
  },
  {
   "cell_type": "code",
   "execution_count": null,
   "id": "92f5716d-a6eb-4b3b-bf22-ef4a21139086",
   "metadata": {
    "tags": []
   },
   "outputs": [],
   "source": [
    "plt.figure(figsize=(12, 6))\n",
    "\n",
    "# Create a histogram of age distribution colored by heart disease status\n",
    "sns.histplot(data= df, x='age', hue='num', bins=10, \n",
    "             multiple='stack', palette='Set2')\n",
    "\n",
    "# Add labels and title\n",
    "plt.title('Age Distribution by Heart Disease Status', fontsize=16)\n",
    "plt.xlabel('Age', fontsize=14)\n",
    "plt.ylabel('Count', fontsize=14)\n",
    "plt.legend(labels=['No Heart Disease', 'Heart Disease'], title='Diagnosis')\n",
    "\n",
    "plt.tight_layout()\n",
    "plt.savefig('age_distribution.png')\n",
    "plt.show()"
   ]
  },
  {
   "cell_type": "markdown",
   "id": "5d02bbf6-3e5f-4a98-937f-5f84779513a1",
   "metadata": {},
   "source": [
    "### Question 4: How does maximum heart rate compare between patients with and without heart disease?\n"
   ]
  },
  {
   "cell_type": "code",
   "execution_count": null,
   "id": "54320170-aa5f-4808-97c4-533192a68dc5",
   "metadata": {
    "tags": []
   },
   "outputs": [],
   "source": [
    "plt.figure(figsize=(10, 6))\n",
    "\n",
    "# Create boxplots for maximum heart rate by heart disease status\n",
    "sns.boxplot(x='num', y='thalch', data=df, palette='Set3')\n",
    "\n",
    "# Add individual data points\n",
    "sns.stripplot(x='num', y='thalch', data=df, \n",
    "              color='black', alpha=0.3, size=4)\n",
    "\n",
    "# Add labels and title\n",
    "plt.title('Maximum Heart Rate by Heart Disease Status', fontsize=16)\n",
    "plt.xlabel('Heart Disease Diagnosis (0 = No, 1 = Yes)', fontsize=14)\n",
    "plt.ylabel('Maximum Heart Rate', fontsize=14)\n",
    "\n",
    "plt.tight_layout()\n",
    "plt.savefig('max_heart_rate.png')\n",
    "plt.show()"
   ]
  },
  {
   "cell_type": "markdown",
   "id": "bfe6b1f6-0cfe-4ea9-bbe4-967394966b4f",
   "metadata": {},
   "source": [
    "### Question 5: What is the relationship between cholesterol levels and heart disease?\n"
   ]
  },
  {
   "cell_type": "code",
   "execution_count": null,
   "id": "19d8f1c4-c326-4370-b251-6c06014f580c",
   "metadata": {
    "tags": []
   },
   "outputs": [],
   "source": [
    "plt.figure(figsize=(10, 6))\n",
    "\n",
    "# Create violin plots for cholesterol by heart disease status\n",
    "sns.violinplot(x='num', y='chol', data=df, palette='Pastel1')\n",
    "\n",
    "# Add individual data points\n",
    "sns.stripplot(x='num', y='chol', data=df, \n",
    "              color='black', alpha=0.3, size=4)\n",
    "\n",
    "# Add labels and title\n",
    "plt.title('Cholesterol Levels by Heart Disease Status', fontsize=16)\n",
    "plt.xlabel('Heart Disease Diagnosis (0 = No, 1 = Yes)', fontsize=14)\n",
    "plt.ylabel('Serum Cholesterol (mg/dl)', fontsize=14)\n",
    "\n",
    "plt.tight_layout()\n",
    "plt.savefig('cholesterol_levels.png')\n",
    "plt.show()"
   ]
  },
  {
   "cell_type": "markdown",
   "id": "4f8de358-a808-4fda-adb1-ed9326e91af1",
   "metadata": {},
   "source": [
    "## 2.3 basic visuaization\n"
   ]
  },
  {
   "cell_type": "code",
   "execution_count": null,
   "id": "9ecc1ae9-2e0a-4b93-9985-1ee41800fda4",
   "metadata": {
    "tags": []
   },
   "outputs": [],
   "source": [
    "# 1. Sex Distribution\n",
    "plt.subplot(2, 3, 2)\n",
    "sex_counts = df['sex'].value_counts()\n",
    "plt.pie(sex_counts, labels=['Female', 'Male'], autopct='%1.1f%%', startangle=90)\n",
    "plt.title('Sex Distribution')"
   ]
  },
  {
   "cell_type": "code",
   "execution_count": null,
   "id": "0ec62f30-6dde-4224-b58b-b53ebeaf0b3d",
   "metadata": {
    "tags": []
   },
   "outputs": [],
   "source": [
    "# 2. Age Distribution\n",
    "plt.figure(figsize=(14, 10))    \n",
    "plt.subplot(2, 3, 1)\n",
    "sns.histplot(df['age'], kde=True, bins=20)\n",
    "plt.title('Age Distribution')"
   ]
  },
  {
   "cell_type": "code",
   "execution_count": null,
   "id": "eed1b7a4-6b30-49a5-943d-7c7b041ed798",
   "metadata": {
    "tags": []
   },
   "outputs": [],
   "source": [
    "# 3. Chest Pain Type Distribution\n",
    "plt.subplot(2, 3, 3)\n",
    "cp_counts = df['cp'].value_counts().sort_index()\n",
    "sns.barplot(x=cp_counts.index, y=cp_counts.values)\n",
    "plt.title('Chest Pain Type Distribution')\n",
    "plt.xlabel('Chest Pain Type')\n",
    "plt.ylabel('Count')\n",
    "plt.xticks([0, 1, 2, 3], ['Typical Angina', 'Atypical Angina', 'Non-anginal Pain', 'Asymptomatic'])"
   ]
  },
  {
   "cell_type": "code",
   "execution_count": null,
   "id": "00a4a0e6-ff2d-4683-ad11-90c19c88ed03",
   "metadata": {
    "tags": []
   },
   "outputs": [],
   "source": [
    "# 4. Resting Blood Pressure Distribution\n",
    "plt.subplot(2, 3, 4)\n",
    "sns.histplot(df['trestbps'], kde=True, bins=20)\n",
    "plt.title('Resting Blood Pressure Distribution')\n",
    "plt.xlabel('Resting Blood Pressure (mm Hg)')"
   ]
  },
  {
   "cell_type": "code",
   "execution_count": null,
   "id": "6bad1ad0-b8c5-4208-9f1b-5e34d49c6149",
   "metadata": {
    "tags": []
   },
   "outputs": [],
   "source": [
    "# 5. Cholesterol Distribution\n",
    "plt.subplot(2, 3, 5)\n",
    "sns.histplot(df['chol'], kde=True, bins=20)\n",
    "plt.title('Cholesterol Distribution')\n",
    "plt.xlabel('Serum Cholesterol (mg/dl)')"
   ]
  },
  {
   "cell_type": "markdown",
   "id": "5426baaa-fa82-48b6-bd68-8dd067501d91",
   "metadata": {},
   "source": [
    "## 2.4 Advanced visualization\n"
   ]
  },
  {
   "cell_type": "code",
   "execution_count": null,
   "id": "b3122097-d2db-46c8-9633-6dd2899d7fba",
   "metadata": {
    "tags": []
   },
   "outputs": [],
   "source": [
    "if len(numeric_cols) > 1:\n",
    "    correlation_matrix = df[numeric_cols].corr()\n",
    "\n",
    "    plt.figure(figsize=(12, 10))\n",
    "    plt.imshow(correlation_matrix, cmap='coolwarm', interpolation='none', aspect='auto')\n",
    "    plt.colorbar()\n",
    "    plt.xticks(range(len(correlation_matrix)), correlation_matrix.columns, rotation=90)\n",
    "    plt.yticks(range(len(correlation_matrix)), correlation_matrix.columns)\n",
    "\n",
    "    # Add correlation values in the cells\n",
    "    for i in range(len(correlation_matrix)):\n",
    "        for j in range(len(correlation_matrix)):\n",
    "            plt.text(j, i, f'{correlation_matrix.iloc[i, j]:.2f}',\n",
    "                     ha='center', va='center',\n",
    "                     color='white' if abs(correlation_matrix.iloc[i, j]) > 0.5 else 'black')\n",
    "\n",
    "    plt.title('Feature Correlation Matrix')\n",
    "    plt.tight_layout()\n",
    "    plt.savefig('correlation_matrix.png')\n",
    "    plt.show()"
   ]
  },
  {
   "cell_type": "code",
   "execution_count": null,
   "id": "ae722517-44dd-404d-ade4-b8ca7fbce22e",
   "metadata": {
    "tags": []
   },
   "outputs": [],
   "source": [
    "# 2. Age vs. Max Heart Rate Colored by Disease Status\n",
    "plt.figure(figsize=(12, 8))\n",
    "sns.scatterplot(x='age', y='thalch', hue='num', data=df, palette='viridis', s=100, alpha=0.7)\n",
    "plt.title('Age vs. Maximum Heart Rate by Disease Status')\n",
    "plt.xlabel('Age')\n",
    "plt.ylabel('Maximum Heart Rate')\n",
    "plt.legend(title='Heart Disease', labels=['Absent', 'Present'])\n",
    "plt.grid(True, alpha=0.3)\n",
    "plt.tight_layout()\n",
    "plt.savefig('age_vs_heartrate_scatter.png')"
   ]
  },
  {
   "cell_type": "markdown",
   "id": "375d91bf-b34a-4256-845f-de007def8496",
   "metadata": {},
   "source": [
    "## 3.Modelling"
   ]
  },
  {
   "cell_type": "code",
   "execution_count": null,
   "id": "0150d7a1-a527-44e4-b122-b977d809e97d",
   "metadata": {
    "tags": []
   },
   "outputs": [],
   "source": [
    "from sklearn.model_selection import train_test_split, cross_val_score\n",
    "from sklearn.linear_model import LogisticRegression\n",
    "from sklearn.preprocessing import StandardScaler\n",
    "from sklearn.pipeline import Pipeline\n",
    "from sklearn.preprocessing import LabelEncoder\n",
    "from sklearn.metrics import (\n",
    "    accuracy_score, precision_score, recall_score, f1_score,\n",
    "    confusion_matrix, classification_report, roc_curve, auc, roc_auc_score\n",
    ")\n",
    "\n",
    "\n",
    "# Apply Label Encoding to all object (string) columns\n",
    "for col in df.select_dtypes(include=['object']).columns:\n",
    "    df[col] = LabelEncoder().fit_transform(df[col])\n",
    "\n",
    "# Separate features and target\n",
    "X = df.drop('num', axis=1)\n",
    "y = df['num']\n",
    "\n",
    "print(\"\\nFeature set shape:\", X.shape)\n",
    "print(\"Target set shape:\", y.shape)"
   ]
  },
  {
   "cell_type": "code",
   "execution_count": null,
   "id": "a0c93a38-cfa1-41d5-a621-4ab75f47d3db",
   "metadata": {
    "tags": []
   },
   "outputs": [],
   "source": [
    "X_train, X_test, y_train, y_test = train_test_split(\n",
    "    X, y, test_size=0.20, random_state=42, stratify=y\n",
    ")\n",
    "print(\"\\nTraining set shape:\", X_train.shape)\n",
    "print(\"Testing set shape:\", X_test.shape)\n",
    "\n",
    "# Create a pipeline with scaling and logistic regression\n",
    "pipe = Pipeline([\n",
    "    ('scaler', StandardScaler()),\n",
    "    ('classifier', LogisticRegression(max_iter=1000, random_state=42))\n",
    "])"
   ]
  },
  {
   "cell_type": "code",
   "execution_count": null,
   "id": "a143c8c4-0560-489e-99a6-2f42df3e1053",
   "metadata": {
    "tags": []
   },
   "outputs": [],
   "source": [
    "df.isnull().sum()"
   ]
  },
  {
   "cell_type": "code",
   "execution_count": null,
   "id": "0268a7ce-4cd6-41f7-9696-669841d8d2a5",
   "metadata": {
    "tags": []
   },
   "outputs": [],
   "source": [
    "# Fit the model\n",
    "pipe.fit(X_train, y_train)\n",
    "\n",
    "# Make predictions\n",
    "y_pred = pipe.predict(X_test)\n",
    "y_pred_prob = pipe.predict_proba(X_test)[:, 1]"
   ]
  },
  {
   "cell_type": "code",
   "execution_count": null,
   "id": "64196317-2533-4761-b639-823368991d0a",
   "metadata": {},
   "outputs": [],
   "source": [
    "# Performance metrics\n",
    "print(\"\\n===== BASELINE MODEL PERFORMANCE =====\")\n",
    "print(\"\\nConfusion Matrix:\")\n",
    "cm = confusion_matrix(y_test, y_pred)\n",
    "print(cm)\n",
    "\n"
   ]
  },
  {
   "cell_type": "code",
   "execution_count": null,
   "id": "c2a2f25e-5371-48de-8028-ce9f6afc4706",
   "metadata": {
    "tags": []
   },
   "outputs": [],
   "source": [
    "# Visualize confusion matrix\n",
    "plt.figure(figsize=(8, 6))\n",
    "sns.heatmap(cm, annot=True, fmt='d', cmap='Blues', cbar=False)\n",
    "plt.title('Confusion Matrix')\n",
    "plt.ylabel('True Label')\n",
    "plt.xlabel('Predicted Label')\n",
    "plt.savefig('confusion_matrix.png')\n",
    "plt.close()\n",
    "\n",
    "print(\"\\nClassification Report:\")\n",
    "print(classification_report(y_test, y_pred))"
   ]
  },
  {
   "cell_type": "code",
   "execution_count": null,
   "id": "8fb0713a-e279-4871-a7b1-4295098ac782",
   "metadata": {
    "tags": []
   },
   "outputs": [],
   "source": [
    "# Calculate metrics\n",
    "accuracy = accuracy_score(y_test, y_pred)\n",
    "precision = precision_score(y_test, y_pred)\n",
    "recall = recall_score(y_test, y_pred)\n",
    "f1 = f1_score(y_test, y_pred)\n",
    "roc_auc = roc_auc_score(y_test, y_pred_prob)\n",
    "\n",
    "print(\"\\nSummary Metrics:\")\n",
    "print(f\"Accuracy: {accuracy:.4f}\")\n",
    "print(f\"Precision: {precision:.4f}\")\n",
    "print(f\"Recall: {recall:.4f}\")\n",
    "print(f\"F1 Score: {f1:.4f}\")\n",
    "print(f\"ROC AUC: {roc_auc:.4f}\")\n"
   ]
  },
  {
   "cell_type": "markdown",
   "id": "6d68246c-6c37-4331-90b0-8d6924fbc0e2",
   "metadata": {},
   "source": [
    "## 3.2 Model Expirmntation"
   ]
  },
  {
   "cell_type": "code",
   "execution_count": null,
   "id": "b1c34ba6-c3ff-4f0d-87a2-63b132038a4c",
   "metadata": {
    "tags": []
   },
   "outputs": [],
   "source": [
    "from sklearn.model_selection import train_test_split\n",
    "from sklearn.tree import DecisionTreeClassifier\n",
    "\n",
    "dt_model = DecisionTreeClassifier(random_state=42)\n",
    "dt_model.fit(X_train, y_train)\n",
    "\n",
    "# Make predictions\n",
    "y_pred = dt_model.predict(X_test)\n",
    "y_proba = dt_model.predict_proba(X_test)[:, 1] "
   ]
  },
  {
   "cell_type": "code",
   "execution_count": null,
   "id": "d17c714f-8631-4798-ab39-25cbbd411919",
   "metadata": {
    "tags": []
   },
   "outputs": [],
   "source": [
    "# Calculate metrics\n",
    "accuracy = accuracy_score(y_test, y_pred)\n",
    "print(f\"\\nDecision Tree Accuracy: {accuracy:.4f}\")\n",
    "\n",
    "# Print classification report\n",
    "print(\"\\nClassification Report:\")\n",
    "print(classification_report(y_test, y_pred))"
   ]
  },
  {
   "cell_type": "code",
   "execution_count": null,
   "id": "a134beee-088f-46e0-b716-8f854bb24b9f",
   "metadata": {
    "tags": []
   },
   "outputs": [],
   "source": [
    "# Confusion Matrix\n",
    "plt.figure(figsize=(8, 6))\n",
    "cm = confusion_matrix(y_test, y_pred)\n",
    "sns.heatmap(cm, annot=True, fmt='d', cmap='Blues', cbar=False)\n",
    "plt.title('Confusion Matrix - Decision Tree')\n",
    "plt.ylabel('True Label')\n",
    "plt.xlabel('Predicted Label')\n",
    "plt.show()"
   ]
  },
  {
   "cell_type": "code",
   "execution_count": null,
   "id": "57a13cf5-9864-49bb-a17e-68f2dd8934e1",
   "metadata": {
    "tags": []
   },
   "outputs": [],
   "source": [
    "from sklearn.ensemble import RandomForestClassifier\n",
    "rf_model = RandomForestClassifier(random_state=42)\n",
    "rf_model.fit(X_train, y_train)\n",
    "\n",
    "# Make predictions\n",
    "y_pred = rf_model.predict(X_test)\n",
    "y_proba = rf_model.predict_proba(X_test)[:, 1]"
   ]
  },
  {
   "cell_type": "code",
   "execution_count": null,
   "id": "789f7942-802c-46ef-8294-0690729bb76f",
   "metadata": {
    "tags": []
   },
   "outputs": [],
   "source": [
    "# Calculate metrics\n",
    "accuracy = accuracy_score(y_test, y_pred)\n",
    "print(f\"\\nRandom Forest Accuracy: {accuracy:.4f}\")\n",
    "\n",
    "# Print classification report\n",
    "print(\"\\nClassification Report:\")\n",
    "print(classification_report(y_test, y_pred))"
   ]
  },
  {
   "cell_type": "code",
   "execution_count": null,
   "id": "4bd252c7-17c3-4cc5-ad31-b76cf6e49ffc",
   "metadata": {
    "tags": []
   },
   "outputs": [],
   "source": [
    "# Confusion Matrix\n",
    "plt.figure(figsize=(8, 6))\n",
    "cm = confusion_matrix(y_test, y_pred)\n",
    "sns.heatmap(cm, annot=True, fmt='d', cmap='Blues', cbar=False)\n",
    "plt.title('Confusion Matrix - Random Forest')\n",
    "plt.ylabel('True Label')\n",
    "plt.xlabel('Predicted Label')\n",
    "plt.show()"
   ]
  },
  {
   "cell_type": "code",
   "execution_count": null,
   "id": "ccdd6790-d3be-4095-afe3-8320921fdae2",
   "metadata": {
    "tags": []
   },
   "outputs": [],
   "source": [
    "from sklearn.svm import SVC\n",
    "from sklearn.preprocessing import StandardScaler\n",
    "# Feature scaling (important for SVM)\n",
    "scaler = StandardScaler()\n",
    "X_train_scaled = scaler.fit_transform(X_train)\n",
    "X_test_scaled = scaler.transform(X_test)\n",
    "\n",
    "\n",
    "# Train the model with default parameters (but make sure to enable probability estimation)\n",
    "svm_model = SVC(probability=True, random_state=42)\n",
    "svm_model.fit(X_train_scaled, y_train)\n",
    "\n",
    "# Make predictions\n",
    "y_pred = svm_model.predict(X_test_scaled)\n",
    "y_proba = svm_model.predict_proba(X_test_scaled)[:, 1]  "
   ]
  },
  {
   "cell_type": "code",
   "execution_count": null,
   "id": "7cd07969-9b8c-433e-9586-8a637a684b31",
   "metadata": {
    "tags": []
   },
   "outputs": [],
   "source": [
    "# Calculate metrics\n",
    "accuracy = accuracy_score(y_test, y_pred)\n",
    "print(f\"\\nSVM Accuracy: {accuracy:.4f}\")\n",
    "\n",
    "# Print classification report\n",
    "print(\"\\nClassification Report:\")\n",
    "print(classification_report(y_test, y_pred))"
   ]
  },
  {
   "cell_type": "code",
   "execution_count": null,
   "id": "4f8ddd16-5553-4731-86e9-c187f6eaec20",
   "metadata": {
    "tags": []
   },
   "outputs": [],
   "source": [
    "# Confusion Matrix\n",
    "plt.figure(figsize=(8, 6))\n",
    "cm = confusion_matrix(y_test, y_pred)\n",
    "sns.heatmap(cm, annot=True, fmt='d', cmap='Blues', cbar=False)\n",
    "plt.title('Confusion Matrix - SVM')\n",
    "plt.ylabel('True Label')\n",
    "plt.xlabel('Predicted Label')\n",
    "plt.show()"
   ]
  },
  {
   "cell_type": "code",
   "execution_count": null,
   "id": "2d8c0d2c-8406-4eb8-b7c2-b2cc6d82fa29",
   "metadata": {
    "tags": []
   },
   "outputs": [],
   "source": [
    "pip install xgboost"
   ]
  },
  {
   "cell_type": "code",
   "execution_count": null,
   "id": "8ff4daed-ff32-4694-a4d4-66b3acbc4bf2",
   "metadata": {
    "tags": []
   },
   "outputs": [],
   "source": [
    "import xgboost as xgb \n",
    "xgb_model = xgb.XGBClassifier(random_state=42, eval_metric='logloss')\n",
    "xgb_model.fit(X_train, y_train)\n",
    "\n",
    "# Make predictions\n",
    "y_pred = xgb_model.predict(X_test)\n",
    "y_proba = xgb_model.predict_proba(X_test)[:, 1] "
   ]
  },
  {
   "cell_type": "code",
   "execution_count": null,
   "id": "9fc33e1a-0cd5-458d-80bf-4b4597de5fb9",
   "metadata": {
    "tags": []
   },
   "outputs": [],
   "source": [
    "# Calculate metrics\n",
    "accuracy = accuracy_score(y_test, y_pred)\n",
    "print(f\"\\nXGBoost Accuracy: {accuracy:.4f}\")\n",
    "\n",
    "# Print classification report\n",
    "print(\"\\nClassification Report:\")\n",
    "print(classification_report(y_test, y_pred))\n"
   ]
  },
  {
   "cell_type": "code",
   "execution_count": null,
   "id": "22086fbf-52e5-4161-a04f-52daa35c86af",
   "metadata": {
    "tags": []
   },
   "outputs": [],
   "source": [
    "# Confusion Matrix\n",
    "plt.figure(figsize=(8, 6))\n",
    "cm = confusion_matrix(y_test, y_pred)\n",
    "sns.heatmap(cm, annot=True, fmt='d', cmap='Blues', cbar=False)\n",
    "plt.title('Confusion Matrix - XGBoost')\n",
    "plt.ylabel('True Label')\n",
    "plt.xlabel('Predicted Label')\n",
    "plt.show()"
   ]
  },
  {
   "cell_type": "code",
   "execution_count": null,
   "id": "955dbd9a-ac0b-427d-9e24-ef98ab6b45d3",
   "metadata": {},
   "outputs": [],
   "source": [
    "from sklearn.model_selection import GridSearchCV\n",
    "\n",
    "\n",
    "\n",
    "# Define the grid of hyperparameters to search\n",
    "param_grid = {\n",
    "    'n_estimators': [50, 100, 200],\n",
    "    'max_depth': [None, 10, 20],\n",
    "    'min_samples_split': [2, 5],\n",
    "    'min_samples_leaf': [1, 2]\n",
    "}\n",
    "\n",
    "# Grid search with cross-validation\n",
    "grid_search = GridSearchCV(estimator=rf_model, param_grid=param_grid, \n",
    "                           cv=5, n_jobs=-1, scoring='accuracy')\n",
    "\n",
    "# Fit the model\n",
    "grid_search.fit(X_train, y_train)\n",
    "\n",
    "# Best parameters and score\n",
    "print(\"Best parameters (GridSearchCV):\", grid_search.best_params_)\n",
    "print(\"Best cross-validation score:\", grid_search.best_score_)\n"
   ]
  },
  {
   "cell_type": "code",
   "execution_count": null,
   "id": "598afa89-bf11-485c-a60c-f629bceebf0a",
   "metadata": {},
   "outputs": [],
   "source": []
  }
 ],
 "metadata": {
  "kernelspec": {
   "display_name": "Python 3 (ipykernel)",
   "language": "python",
   "name": "python3"
  },
  "language_info": {
   "codemirror_mode": {
    "name": "ipython",
    "version": 3
   },
   "file_extension": ".py",
   "mimetype": "text/x-python",
   "name": "python",
   "nbconvert_exporter": "python",
   "pygments_lexer": "ipython3",
   "version": "3.11.5"
  }
 },
 "nbformat": 4,
 "nbformat_minor": 5
}
